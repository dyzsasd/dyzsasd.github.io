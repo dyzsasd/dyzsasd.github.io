{
 "cells": [
  {
   "cell_type": "markdown",
   "metadata": {},
   "source": [
    "Tensorflow 十日谈"
   ]
  },
  {
   "cell_type": "markdown",
   "metadata": {},
   "source": [
    "tensorflow==1.3.0"
   ]
  },
  {
   "cell_type": "markdown",
   "metadata": {},
   "source": [
    "因为工作的原因一直在使用tensorflow机器学习架构，但一直没能对其使用进行总结。同时用于器迭代速度很快，每个版本之间有不少差异，在此希望借助这一些列的博客，一是总结一下已经做过的项目，同时系统梳理一下1.3.0版tensorflow的具体使用（本人工作中仍在使用0.11）。\n",
    "\n",
    "由于保密，不能直接使用工作中的代码，我会使用公共资源来来进行演示。"
   ]
  },
  {
   "cell_type": "code",
   "execution_count": null,
   "metadata": {},
   "outputs": [],
   "source": []
  }
 ],
 "metadata": {
  "kernelspec": {
   "display_name": "Python 3",
   "language": "python",
   "name": "python3"
  },
  "language_info": {
   "codemirror_mode": {
    "name": "ipython",
    "version": 3
   },
   "file_extension": ".py",
   "mimetype": "text/x-python",
   "name": "python",
   "nbconvert_exporter": "python",
   "pygments_lexer": "ipython3",
   "version": "3.6.1"
  }
 },
 "nbformat": 4,
 "nbformat_minor": 2
}
