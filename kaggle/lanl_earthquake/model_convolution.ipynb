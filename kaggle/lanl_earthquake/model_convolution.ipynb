{
 "cells": [
  {
   "cell_type": "code",
   "execution_count": 1,
   "metadata": {},
   "outputs": [],
   "source": [
    "import os\n",
    "\n",
    "import tensorflow as tf"
   ]
  },
  {
   "cell_type": "code",
   "execution_count": 2,
   "metadata": {},
   "outputs": [
    {
     "name": "stdout",
     "output_type": "stream",
     "text": [
      "WARNING:tensorflow:From <ipython-input-2-3580d3a4c2ff>:15: CsvDataset.__init__ (from tensorflow.contrib.data.python.ops.readers) is deprecated and will be removed in a future version.\n",
      "Instructions for updating:\n",
      "Use `tf.data.experimental.CsvDataset(...)`.\n",
      "WARNING:tensorflow:From /home/shuai/workspace/proj/dyzsasd.github.io/env/lib/python3.6/site-packages/tensorflow/python/util/deprecation.py:488: sliding_window_batch (from tensorflow.contrib.data.python.ops.sliding) is deprecated and will be removed in a future version.\n",
      "Instructions for updating:\n",
      "Use `tf.data.Dataset.window(size=window_size, shift=window_shift, stride=window_stride).flat_map(lambda x: x.batch(window.size))` instead.\n"
     ]
    }
   ],
   "source": [
    "tf.reset_default_graph()\n",
    "\n",
    "data_dir = \"/media/data/ai/kaggle/lanl_earthquake/\"\n",
    "\n",
    "window_size = 150000\n",
    "window_shift = 9\n",
    "batch_size = 32\n",
    "\n",
    "def to_train(acoustic_data_vec, time_to_failure_vec):\n",
    "    return acoustic_data_vec, time_to_failure_vec[-1]\n",
    "\n",
    "acoustic_dataset = tf.contrib.data.CsvDataset(\n",
    "    os.path.join(data_dir, 'train.csv'),\n",
    "    [tf.constant(0.0, dtype=tf.float32), tf.constant(0.0, dtype=tf.float32)],\n",
    "    header=True\n",
    ").apply(\n",
    "    tf.contrib.data.sliding_window_batch(window_size=window_size, window_shift=window_shift)\n",
    ").map(to_train)\n",
    "\n",
    "# test_dataset = acoustic_dataset.take(100).batch(100).cache().repeat()\n",
    "train_dataset = acoustic_dataset.batch(batch_size).prefetch(1000).repeat()\n",
    "\n",
    "train_iterator = train_dataset.make_initializable_iterator()\n",
    "X, y = train_iterator.get_next()\n",
    "X = tf.expand_dims(tf.reshape(X, (-1, window_size)), -1)\n",
    "y = tf.expand_dims(y, -1)\n",
    "\n",
    "# test_interator = test_dataset.make_initializable_iterator()\n",
    "# text_X, test_y = test_interator.get_next()\n",
    "# test_X = tf.expand_dims(text_X, -1)"
   ]
  },
  {
   "cell_type": "code",
   "execution_count": 3,
   "metadata": {},
   "outputs": [],
   "source": [
    "with tf.variable_scope('input', reuse=tf.AUTO_REUSE):\n",
    "    input_signal = tf.placeholder(tf.float32, [None, 150000, 1], name='input_signal')\n",
    "    time_to_failure = tf.placeholder(tf.float32, [None, 1], name='time_to_failure')\n",
    "    is_training = tf.placeholder_with_default(True, [], name='is_training')\n",
    "    dropout_rate = tf.cast(tf.placeholder_with_default(0.5, [], name='dropout_rate'), tf.float32)\n",
    "\n",
    "    training_rate = tf.placeholder_with_default(0.00001, [], name='training_rate')\n",
    "    \n",
    "with tf.variable_scope('convolution', reuse=tf.AUTO_REUSE):\n",
    "    conv1_1 = tf.layers.conv1d(X, 64, 9, strides=3, padding='VALID', name='conv1_1')\n",
    "    conv1_2 = tf.layers.conv1d(conv1_1, 64, 9, strides=1, padding='VALID', name='conv1_2')\n",
    "    pool1 = tf.layers.max_pooling1d(conv1_2, 2, 2, name='pool1')\n",
    "    \n",
    "    conv2_1 = tf.layers.conv1d(pool1, 512, 9, strides=3, padding='VALID', name='conv2_1')\n",
    "    conv2_2 = tf.layers.conv1d(conv2_1, 512, 9, strides=1, padding='VALID', name='conv2_2')\n",
    "    pool2 = tf.layers.max_pooling1d(conv2_2, 2, 2, name='pool2')\n",
    "    \n",
    "    conv3_1 = tf.layers.conv1d(pool2, 256, 9, strides=3, padding='VALID', name='conv3_1')\n",
    "    conv3_2 = tf.layers.conv1d(conv3_1, 256, 9, strides=1, padding='VALID', name='conv3_2')\n",
    "    pool3 = tf.layers.max_pooling1d(conv3_2, 2, 2, name='pool3')\n",
    "\n",
    "    conv4_1 = tf.layers.conv1d(pool3, 512, 9, strides=3, padding='VALID', name='conv4_1')\n",
    "    conv4_2 = tf.layers.conv1d(conv4_1, 512, 9, strides=1, padding='VALID', name='conv4_2')\n",
    "    pool4 = tf.layers.max_pooling1d(conv4_2, 2, 2, name='pool4')\n",
    "    \n",
    "    flatten = tf.layers.flatten(pool4, name='flatten')\n",
    "    dropout = tf.layers.dropout(flatten, rate=dropout_rate, training=is_training, name='dropout')\n",
    "    \n",
    "    feature = tf.layers.dense(dropout, 1000, activation=tf.nn.relu, name='feature')\n",
    "    time_to_failure_pred = tf.layers.dense(feature, 1, name='time_to_failure_pred')\n",
    "    \n",
    "with tf.variable_scope('training', reuse=tf.AUTO_REUSE):\n",
    "    loss = tf.losses.mean_squared_error(y, time_to_failure_pred)\n",
    "    tf.summary.scalar('train_loss', loss)\n",
    "    merged = tf.summary.merge_all()\n",
    "    optimizer = tf.train.AdamOptimizer(training_rate)\n",
    "    train_step = optimizer.minimize(loss)\n",
    "    "
   ]
  },
  {
   "cell_type": "code",
   "execution_count": null,
   "metadata": {},
   "outputs": [],
   "source": [
    "from datetime import datetime\n",
    "\n",
    "max_iter = 100000\n",
    "\n",
    "train_writer = tf.summary.FileWriter('tensorboard/%s' % datetime.utcnow().isoformat())\n",
    "\n",
    "sess = tf.Session()\n",
    "\n",
    "with sess:\n",
    "    sess.run([tf.global_variables_initializer()])\n",
    "    sess.run([train_iterator.initializer])\n",
    "\n",
    "    for i in range(max_iter):\n",
    "        loss_val, summary, _ = sess.run([loss, merged, train_step])\n",
    "        train_writer.add_summary(summary, global_step=i)"
   ]
  },
  {
   "cell_type": "code",
   "execution_count": 5,
   "metadata": {},
   "outputs": [
    {
     "data": {
      "text/plain": [
       "0.12119138"
      ]
     },
     "execution_count": 5,
     "metadata": {},
     "output_type": "execute_result"
    }
   ],
   "source": [
    "loss_val"
   ]
  }
 ],
 "metadata": {
  "kernelspec": {
   "display_name": "Python 3",
   "language": "python",
   "name": "python3"
  },
  "language_info": {
   "codemirror_mode": {
    "name": "ipython",
    "version": 3
   },
   "file_extension": ".py",
   "mimetype": "text/x-python",
   "name": "python",
   "nbconvert_exporter": "python",
   "pygments_lexer": "ipython3",
   "version": "3.6.6"
  }
 },
 "nbformat": 4,
 "nbformat_minor": 2
}
