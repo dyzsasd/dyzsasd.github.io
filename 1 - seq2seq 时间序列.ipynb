{
 "cells": [
  {
   "cell_type": "markdown",
   "metadata": {},
   "source": [
    "在这篇博客中，我们将会应用seq2seq模型来尝试解决kaggle的一个竞赛，以下为竞赛地址：\n",
    "https://www.kaggle.com/c/text-normalization-challenge-english-language"
   ]
  },
  {
   "cell_type": "code",
   "execution_count": 1,
   "metadata": {},
   "outputs": [],
   "source": [
    "import numpy as np\n",
    "import tensorflow as tf\n",
    "\n",
    "# 重置默认计算图\n",
    "tf.reset_default_graph()\n",
    "# 创建交互式计算会话\n",
    "sess = tf.InteractiveSession()\n",
    "\n",
    "PAD = 0\n",
    "EOS = 1\n",
    "\n",
    "env = 'dev'  # 或者是 'prod'\n",
    "mode = tf.contrib.learn.ModeKeys.TRAIN  # tf.contrib.learn.ModeKeys.INFER, tf.contrib.learn.ModeKeys.EVAL"
   ]
  },
  {
   "cell_type": "markdown",
   "metadata": {},
   "source": [
    "在dev模式下创建tensorflow constant作为训练数据。时间步数最大为4，训练批次大小为三个时间序列，分别为：[2， 2， 3， 0]， [4， 5， 6， 7]， [8， 9， 0， 0]。对于序列1和3，我们在末尾补0."
   ]
  },
  {
   "cell_type": "code",
   "execution_count": 6,
   "metadata": {},
   "outputs": [],
   "source": [
    "if env == 'dev':\n",
    "    # 创建时间序列\n",
    "    # Batch Size为3\n",
    "    # 时间步数为 4\n",
    "    x = [[2, 4, 8],\n",
    "         [2, 5, 9],\n",
    "         [3, 6, 0],\n",
    "         [0, 7, 0]]\n",
    "    x_len = [3, 4, 2]\n",
    "\n",
    "    encoder_inputs = tf.constant(x, dtype=tf.int32, name='encoder_inputs')\n",
    "    encoder_inputs_length = tf.constant(x_len, dtype=tf.int32, name='encoder_inputs_length')\n",
    "elif env == 'prod':\n",
    "    raise NotImplementedError(\"创建placeholder\")"
   ]
  },
  {
   "cell_type": "markdown",
   "metadata": {},
   "source": [
    "创建encoder，设定输入词典大小为10，包括 PAD=0， EOS=1. 设定embedding_size为5"
   ]
  },
  {
   "cell_type": "code",
   "execution_count": 7,
   "metadata": {},
   "outputs": [],
   "source": [
    "if env == 'dev':\n",
    "    vocab_size = 10\n",
    "    embedding_size = 5\n",
    "    input_hidden_unit = 20\n",
    "elif env == 'prod':\n",
    "    raise NotImplementedError(\"设定数据集的vocab size， embedding size， input hidden size\")"
   ]
  },
  {
   "cell_type": "markdown",
   "metadata": {},
   "source": [
    "这里我们将会创建输入RNN网络，我们使用LSTM单元：\n",
    "    <img src=\"resources/images/note_1/lstm.jpg\">"
   ]
  },
  {
   "cell_type": "code",
   "execution_count": null,
   "metadata": {},
   "outputs": [],
   "source": [
    "import math\n",
    "\n",
    "with tf.variable_scope(\"embedding\") as scope:\n",
    "    encoder_cell = tf.contrib.rnn.LSTMCell(input_hidden_unit)\n",
    "    sqrt3 = math.sqrt(3)\n",
    "    initializer = tf.random_uniform_initializer(-sqrt3, sqrt3)\n",
    "\n",
    "    embedding_matrix = tf.get_variable(\n",
    "        name=\"embedding_matrix\",\n",
    "        shape=[vocab_size, embedding_size],\n",
    "        initializer=initializer,\n",
    "        dtype=tf.float32)\n",
    "\n",
    "    embedded_encoder_inputs = tf.nn.embedding_lookup(\n",
    "        embedding_matrix, encoder_inputs)\n",
    "    \n",
    "    outputs, state = tf.nn.dynamic_rnn(\n",
    "        cell=encoder_cell,\n",
    "        inputs=embedded_encoder_inputs,\n",
    "        sequence_length=encoder_inputs_length,\n",
    "        time_major=True,\n",
    "        dtype=tf.float32)"
   ]
  },
  {
   "cell_type": "code",
   "execution_count": null,
   "metadata": {},
   "outputs": [],
   "source": []
  }
 ],
 "metadata": {
  "kernelspec": {
   "display_name": "Python 3",
   "language": "python",
   "name": "python3"
  },
  "language_info": {
   "codemirror_mode": {
    "name": "ipython",
    "version": 3
   },
   "file_extension": ".py",
   "mimetype": "text/x-python",
   "name": "python",
   "nbconvert_exporter": "python",
   "pygments_lexer": "ipython3",
   "version": "3.6.1"
  }
 },
 "nbformat": 4,
 "nbformat_minor": 2
}
