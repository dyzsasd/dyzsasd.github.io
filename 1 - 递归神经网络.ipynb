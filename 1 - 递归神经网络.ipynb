{
 "cells": [
  {
   "cell_type": "raw",
   "metadata": {},
   "source": [
    "## 递归神经网络"
   ]
  },
  {
   "cell_type": "markdown",
   "metadata": {},
   "source": [
    "递归神经网络被广泛的应用于语言与时序分析领域，在这篇博客中我们将会用简单的例子演示递归神经网络的使用"
   ]
  },
  {
   "cell_type": "markdown",
   "metadata": {},
   "source": [
    "第一步让我们读取ptb数据"
   ]
  },
  {
   "cell_type": "code",
   "execution_count": 1,
   "metadata": {},
   "outputs": [],
   "source": [
    "import collections\n",
    "import os\n",
    "\n",
    "import tensorflow as tf\n",
    "\n",
    "\n",
    "def _read_words(filename):\n",
    "    with tf.gfile.GFile(filename, \"r\") as f:\n",
    "        return f.read().replace(\"\\n\", \"<eos>\").split()\n",
    "\n",
    "\n",
    "def _build_vocab(filename):\n",
    "    data = _read_words(filename)\n",
    "\n",
    "    counter = collections.Counter(data)\n",
    "    count_pairs = sorted(counter.items(), key=lambda x: (-x[1], x[0]))\n",
    "\n",
    "    words, _ = list(zip(*count_pairs))\n",
    "    word_to_id = dict(zip(words, range(len(words))))\n",
    "\n",
    "    return word_to_id\n",
    "\n",
    "\n",
    "def _file_to_word_ids(filename, word_to_id):\n",
    "    data = _read_words(filename)\n",
    "    return [word_to_id[word] for word in data if word in word_to_id]\n",
    "\n",
    "\n",
    "def ptb_raw_data(data_path=None):\n",
    "    train_path = os.path.join(data_path, \"ptb.train.txt\")\n",
    "    valid_path = os.path.join(data_path, \"ptb.valid.txt\")\n",
    "    test_path = os.path.join(data_path, \"ptb.test.txt\")\n",
    "\n",
    "    word_to_id = _build_vocab(train_path)\n",
    "    train_data = _file_to_word_ids(train_path, word_to_id)\n",
    "    valid_data = _file_to_word_ids(valid_path, word_to_id)\n",
    "    test_data = _file_to_word_ids(test_path, word_to_id)\n",
    "    vocabulary = len(word_to_id)\n",
    "    return train_data, valid_data, test_data, vocabulary\n",
    "\n",
    "\n",
    "def ptb_producer(raw_data, batch_size, num_steps, name=None):\n",
    "    with tf.name_scope(name, \"PTBProducer\", [raw_data, batch_size, num_steps]):\n",
    "        raw_data = tf.convert_to_tensor(raw_data, name=\"raw_data\", dtype=tf.int32)\n",
    "\n",
    "        data_len = tf.size(raw_data)\n",
    "        batch_len = data_len // batch_size\n",
    "        data = tf.reshape(raw_data[0 : batch_size * batch_len],\n",
    "                          [batch_size, batch_len])\n",
    "\n",
    "        epoch_size = (batch_len - 1) // num_steps\n",
    "        assertion = tf.assert_positive(\n",
    "            epoch_size,\n",
    "            message=\"epoch_size == 0, decrease batch_size or num_steps\")\n",
    "        with tf.control_dependencies([assertion]):\n",
    "              epoch_size = tf.identity(epoch_size, name=\"epoch_size\")\n",
    "\n",
    "        i = tf.train.range_input_producer(epoch_size, shuffle=False).dequeue()\n",
    "        x = tf.strided_slice(data, [0, i * num_steps],\n",
    "                             [batch_size, (i + 1) * num_steps])\n",
    "        x.set_shape([batch_size, num_steps])\n",
    "        y = tf.strided_slice(data, [0, i * num_steps + 1],\n",
    "                             [batch_size, (i + 1) * num_steps + 1])\n",
    "        y.set_shape([batch_size, num_steps])\n",
    "        return x, y\n"
   ]
  },
  {
   "cell_type": "code",
   "execution_count": 2,
   "metadata": {},
   "outputs": [],
   "source": [
    "batch_size = 200\n",
    "num_steps = 10\n",
    "\n",
    "train_data, valid_data, test_data, vocabulary = ptb_raw_data(\"data/ptb/\")\n",
    "#x, y = ptb_producer(valid_data, batch_size, num_steps)\n",
    "\n",
    "raw_data = valid_data\n",
    "with tf.name_scope(\"train\", \"PTBProducer\", [raw_data, batch_size, num_steps]):\n",
    "    raw_data = tf.convert_to_tensor(raw_data, name=\"raw_data\", dtype=tf.int32)\n",
    "\n",
    "    data_len = tf.size(raw_data)\n",
    "    batch_len = data_len // batch_size\n",
    "    data = tf.reshape(raw_data[0 : batch_size * batch_len],\n",
    "                      [batch_size, batch_len])\n",
    "\n",
    "    epoch_size = (batch_len - 1) // num_steps\n",
    "    assertion = tf.assert_positive(\n",
    "        epoch_size,\n",
    "        message=\"epoch_size == 0, decrease batch_size or num_steps\")\n",
    "    with tf.control_dependencies([assertion]):\n",
    "          epoch_size = tf.identity(epoch_size, name=\"epoch_size\")\n",
    "\n",
    "    i = tf.train.range_input_producer(epoch_size, shuffle=False).dequeue()\n",
    "    x = tf.strided_slice(data, [0, i * num_steps],\n",
    "                         [batch_size, (i + 1) * num_steps])\n",
    "    x.set_shape([batch_size, num_steps])\n",
    "    y = tf.strided_slice(data, [0, i * num_steps + 1],\n",
    "                         [batch_size, (i + 1) * num_steps + 1])\n",
    "    y.set_shape([batch_size, num_steps])\n"
   ]
  },
  {
   "cell_type": "code",
   "execution_count": 3,
   "metadata": {
    "scrolled": true
   },
   "outputs": [],
   "source": [
    "hidden_size = 100\n",
    "is_training = True\n",
    "\n",
    "embedding = tf.get_variable(\"embedding\", [vocabulary, hidden_size], dtype=tf.float32)\n",
    "inputs = tf.nn.embedding_lookup(embedding, x)\n",
    "\n",
    "if is_training:\n",
    "      inputs = tf.nn.dropout(inputs, 0.5)"
   ]
  },
  {
   "cell_type": "code",
   "execution_count": 4,
   "metadata": {},
   "outputs": [],
   "source": [
    "cell = tf.contrib.rnn.BasicLSTMCell(hidden_size, state_is_tuple=True, reuse=not is_training)\n",
    "if is_training:\n",
    "      cell = tf.contrib.rnn.DropoutWrapper(cell, output_keep_prob=0.5)\n",
    "\n",
    "_initial_state = cell.zero_state(batch_size, tf.float32)\n",
    "state = _initial_state\n",
    "\n",
    "outputs = []\n",
    "with tf.variable_scope(\"RNN\"):\n",
    "    for time_step in range(num_steps):\n",
    "        if time_step > 0: \n",
    "            tf.get_variable_scope().reuse_variables()\n",
    "        (cell_output, state) = cell(inputs[:, time_step, :], state)\n",
    "        outputs.append(cell_output)\n",
    "output = tf.reshape(tf.concat(outputs, 1), [-1, hidden_size])\n"
   ]
  },
  {
   "cell_type": "code",
   "execution_count": 5,
   "metadata": {},
   "outputs": [],
   "source": [
    "softmax_w = tf.get_variable(\n",
    "    \"softmax_w\", [hidden_size, vocabulary], dtype=tf.float32)\n",
    "softmax_b = tf.get_variable(\"softmax_b\", [vocabulary], dtype=tf.float32)\n",
    "logits = tf.nn.xw_plus_b(output, softmax_w, softmax_b)\n",
    " # Reshape logits to be a 3-D tensor for sequence loss\n",
    "logits = tf.reshape(logits, [batch_size, num_steps, vocabulary])\n",
    "\n",
    "# Use the contrib sequence loss and average over the batches\n",
    "loss = tf.contrib.seq2seq.sequence_loss(\n",
    "    logits,\n",
    "    y,\n",
    "    tf.ones([batch_size, num_steps], dtype=tf.float32),\n",
    "    average_across_timesteps=False,\n",
    "    average_across_batch=True)\n"
   ]
  },
  {
   "cell_type": "code",
   "execution_count": 6,
   "metadata": {},
   "outputs": [],
   "source": [
    "_cost = tf.reduce_sum(loss)\n",
    "_final_state = state\n",
    "\n",
    "_lr = tf.Variable(0.0, trainable=False)\n",
    "tvars = tf.trainable_variables()\n",
    "grads, _ = tf.clip_by_global_norm(tf.gradients(_cost, tvars), 5)\n",
    "optimizer = tf.train.GradientDescentOptimizer(_lr)\n",
    "_train_op = optimizer.apply_gradients(\n",
    "    zip(grads, tvars),\n",
    "    global_step=tf.contrib.framework.get_or_create_global_step())\n",
    "\n",
    "_new_lr = tf.placeholder(\n",
    "    tf.float32, shape=[], name=\"new_learning_rate\")\n",
    "_lr_update = tf.assign(_lr, _new_lr)"
   ]
  },
  {
   "cell_type": "code",
   "execution_count": 7,
   "metadata": {},
   "outputs": [],
   "source": [
    "init_scale = 0.04\n",
    "initializer = tf.random_uniform_initializer(-init_scale, init_scale)\n",
    "\n",
    "ops = {\n",
    "    \"cost\": _cost,\n",
    "    \"lr\": _lr,\n",
    "    \"new_lr\": _new_lr,\n",
    "    \"lr_update\": _lr_update,\n",
    "}\n",
    "\n",
    "for name, op in ops.items():\n",
    "    tf.add_to_collection(name, op)\n",
    "    \n",
    "tf.add_to_collection(\"initial\", _initial_state.c)\n",
    "tf.add_to_collection(\"initial\", _initial_state.h)\n",
    "tf.add_to_collection(\"final\", _final_state.c)\n",
    "tf.add_to_collection(\"final\", _final_state.h)\n"
   ]
  },
  {
   "cell_type": "code",
   "execution_count": 10,
   "metadata": {},
   "outputs": [],
   "source": [
    "import time\n",
    "\n",
    "\n",
    "max_max_epoch = 1\n",
    "max_epoch = 1\n",
    "_lr_decay = 0.8\n",
    "learning_rate = 1.\n",
    "\n",
    "sess = tf.InteractiveSession()\n",
    "\n",
    "tupled_initial_state = tuple([tf.contrib.rnn.LSTMStateTuple(_initial_state.c, _initial_state.h)])\n",
    "\n",
    "sess.run(tf.global_variables_initializer())\n"
   ]
  },
  {
   "cell_type": "code",
   "execution_count": null,
   "metadata": {},
   "outputs": [],
   "source": [
    "for i in range(max_max_epoch):\n",
    "    lr_decay = _lr_decay ** max(i + 1 - max_epoch, 0.0)\n",
    "    sess.run(_lr_update, feed_dict={_new_lr: learning_rate * lr_decay})\n",
    "    \n",
    "    start_time = time.time()\n",
    "    costs = 0.0\n",
    "    iters = 0\n",
    "    state = sess.run(tupled_initial_state)\n",
    "\n",
    "    fetches = {\n",
    "        \"cost\": _cost,\n",
    "        \"final_state\": _final_state,\n",
    "    }\n",
    "\n",
    "    for step in range(((len(valid_data) // batch_size) - 1) // num_steps):\n",
    "        feed_dict = {}\n",
    "        for i, (c, h) in enumerate(tupled_initial_state):\n",
    "            feed_dict[c] = state[i].c\n",
    "            feed_dict[h] = state[i].h\n",
    "\n",
    "        vals = sess.run(fetches, feed_dict)\n",
    "        cost = vals[\"cost\"]\n",
    "        state = vals[\"final_state\"]\n",
    "\n",
    "        costs += cost\n",
    "        iters += num_steps\n",
    "\n",
    "        print(\"%.3f perplexity: %.3f speed: %.0f wps\" %\n",
    "            (step * 1.0 / epoch_size, np.exp(costs / iters),\n",
    "             iters * batch_size * max(1, FLAGS.num_gpus) /\n",
    "             (time.time() - start_time)))\n"
   ]
  },
  {
   "cell_type": "code",
   "execution_count": 19,
   "metadata": {},
   "outputs": [
    {
     "data": {
      "text/plain": [
       "array([[1132,   93,  358, ...,   69,  123,   10],\n",
       "       [  14,   24,    7, ..., 6208,    5,  462],\n",
       "       [  52,  104,  604, ..., 6485,    8, 4113],\n",
       "       ..., \n",
       "       [2894,    4,  184, ...,   47, 3623,   46],\n",
       "       [7851,    6,  470, ...,  132,    4, 9976],\n",
       "       [   9,  346, 1108, ...,   12,    3,   21]], dtype=int32)"
      ]
     },
     "execution_count": 19,
     "metadata": {},
     "output_type": "execute_result"
    }
   ],
   "source": [
    "sess = tf.InteractiveSession()\n",
    "\n",
    "sess.run(data)"
   ]
  },
  {
   "cell_type": "raw",
   "metadata": {},
   "source": [
    "下面然我们来创建lstm单元，lstm单元在每个时刻处理一个词，假设我们有以下训练集：\n",
    " t=0  t=1    t=2  t=3     t=4\n",
    "[The, brown, fox, is,     quick]\n",
    "[The, red,   fox, jumped, high]\n",
    "\n",
    "我们模型的对应输入应为一个 time_steps * batch_size * feature_size 的张量\n",
    "\n",
    "words_in_dataset[0] = [‘The’, ‘The’]\n",
    "words_in_dataset[1] = [brown, red]\n",
    "words_in_dataset[2] = [fox, fox]\n",
    "words_in_dataset[3] = [is, jumped]\n",
    "words_in_dataset[4] = [quick, high]\n",
    "\n",
    "num_batches = 4, batch_size = 2, time_steps = 5"
   ]
  },
  {
   "cell_type": "raw",
   "metadata": {},
   "source": [
    "tensorflow伪代码为：\n",
    "\n",
    "# 创建输入占位节点\n",
    "words_in_dataset = tf.placeholder(tf.float32, [num_batches, batch_size, num_features])\n",
    "# 创建lstm单元\n",
    "lstm = tf.contrib.rnn.BasicLSTMCell(lstm_size)\n",
    "\n",
    "hidden_state = tf.zeros([batch_size, lstm.state_size])\n",
    "current_state = tf.zeros([batch_size, lstm.state_size])\n",
    "state = (hidden_state, current_state)\n",
    "\n",
    "probabilities = []\n",
    "loss = 0.0\n",
    "\n",
    "for current_batch_of_words in words_in_dataset:\n",
    "    # The value of state is updated after processing each batch of words.\n",
    "    output, state = lstm(current_batch_of_words, state)\n",
    "\n",
    "    # The LSTM output can be used to make next word predictions\n",
    "    logits = tf.matmul(output, softmax_w) + softmax_b\n",
    "    probabilities.append(tf.nn.softmax(logits))\n",
    "\n",
    "    loss += loss_function(probabilities, target_words)\n"
   ]
  },
  {
   "cell_type": "raw",
   "metadata": {},
   "source": [
    "现实中当我们应用向后传播计算梯度时，由于由多层计算，会使计算变慢，同时不容易进行明星计算。所以在此我们会截断梯度向后传播，限制其传播层数，同时展开层级计算。"
   ]
  },
  {
   "cell_type": "raw",
   "metadata": {},
   "source": [
    "以下为伪代码：\n",
    "\n",
    "# 输入占位节点.\n",
    "words = tf.placeholder(tf.int32, [batch_size, num_steps])\n",
    "\n",
    "lstm = tf.contrib.rnn.BasicLSTMCell(lstm_size)\n",
    "# Initial state of the LSTM memory.\n",
    "initial_state = state = tf.zeros([batch_size, lstm.state_size])\n",
    "\n",
    "for i in range(num_steps):\n",
    "    # The value of state is updated after processing each batch of words.\n",
    "    output, state = lstm(words[:, i], state)\n",
    "\n",
    "    # The rest of the code.\n",
    "    # ...\n",
    "\n",
    "final_state = state\n"
   ]
  },
  {
   "cell_type": "code",
   "execution_count": 38,
   "metadata": {},
   "outputs": [
    {
     "name": "stdout",
     "output_type": "stream",
     "text": [
      "data/ptb/ptb.train.txt\n",
      "data/ptb/ptb.train.txt\n",
      "data/ptb/ptb.valid.txt\n",
      "data/ptb/ptb.test.txt\n"
     ]
    }
   ],
   "source": [
    "# 重置默认计算图\n",
    "tf.reset_default_graph()\n",
    "# 创建交互式计算会话\n",
    "sess = tf.InteractiveSession()\n",
    "\n",
    "train_data, valid_data, test_data, vocabulary = ptb_raw_data('data/ptb/')\n",
    "\n",
    "sess.close()"
   ]
  },
  {
   "cell_type": "raw",
   "metadata": {},
   "source": [
    "首先我们需要创建word embed层"
   ]
  },
  {
   "cell_type": "code",
   "execution_count": null,
   "metadata": {},
   "outputs": [],
   "source": []
  }
 ],
 "metadata": {
  "kernelspec": {
   "display_name": "Python 3",
   "language": "python",
   "name": "python3"
  },
  "language_info": {
   "codemirror_mode": {
    "name": "ipython",
    "version": 3
   },
   "file_extension": ".py",
   "mimetype": "text/x-python",
   "name": "python",
   "nbconvert_exporter": "python",
   "pygments_lexer": "ipython3",
   "version": "3.6.1"
  }
 },
 "nbformat": 4,
 "nbformat_minor": 2
}
